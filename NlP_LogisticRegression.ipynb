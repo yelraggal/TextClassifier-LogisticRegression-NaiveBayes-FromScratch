{
  "cells": [
    {
      "cell_type": "markdown",
      "metadata": {
        "id": "JyUBPJskNvE-"
      },
      "source": [
        "# **NLP-Text classfication - Logistic Reggresion from scratch**\n",
        "Youssef Elraggal 7806\n",
        "\n",
        "Mohamed Ossama    7861\n",
        "\n",
        "---\n",
        "\n"
      ]
    },
    {
      "cell_type": "markdown",
      "metadata": {
        "id": "W8JbJm9LN8hn"
      },
      "source": [
        "#**Logistic reggresion**\n",
        "\n",
        "* **Training phase** : we will learn the weights W & b using SGD (to find optimal weights) and CrossEntropyLoss (to measure how good are the weights)  \n",
        "* **Testing phase**: Given X , we will compute the P(Y|X) for each possible class Y , using the learned weights W & b"
      ]
    },
    {
      "cell_type": "markdown",
      "metadata": {
        "id": "jVQTQEP61ob4"
      },
      "source": [
        "##**Imports**"
      ]
    },
    {
      "cell_type": "code",
      "execution_count": 52,
      "metadata": {
        "id": "C1cUwCSU1ob5"
      },
      "outputs": [],
      "source": [
        "# !pip install datasets"
      ]
    },
    {
      "cell_type": "code",
      "execution_count": 53,
      "metadata": {
        "id": "MQqQO3CXWN0A"
      },
      "outputs": [],
      "source": [
        "from sklearn.linear_model import LogisticRegression\n",
        "from sklearn.metrics import accuracy_score\n",
        "import matplotlib.pyplot as plt\n",
        "from sklearn.metrics import confusion_matrix\n",
        "from sklearn.metrics import precision_score, recall_score, f1_score\n",
        "import numpy as np"
      ]
    },
    {
      "cell_type": "markdown",
      "metadata": {
        "id": "QaQN3e7YWRPW"
      },
      "source": [
        "##**Load Training and Testing Data**\n",
        "\n",
        "Training data is a series of (X,Y) pairs,we will represent each X by a feature vector [X1,X2,X3,.....,XN]\n"
      ]
    },
    {
      "cell_type": "code",
      "execution_count": 54,
      "metadata": {
        "id": "3S4AwO271ob6"
      },
      "outputs": [],
      "source": [
        "from datasets import load_dataset\n",
        "dataset = load_dataset(\"sst\", \"default\")"
      ]
    },
    {
      "cell_type": "code",
      "execution_count": 55,
      "metadata": {
        "id": "jXAeAiwF2L8b"
      },
      "outputs": [],
      "source": [
        "x_train, y_train = np.array(dataset['train']['sentence']), np.array(dataset['train']['label'])\n",
        "x_test, y_test = np.array(dataset['test']['sentence']), np.array(dataset['test']['label'])"
      ]
    },
    {
      "cell_type": "markdown",
      "metadata": {
        "id": "GcB8xXlEWe1G"
      },
      "source": [
        "##**Extract features from Training Data**"
      ]
    },
    {
      "cell_type": "code",
      "execution_count": 56,
      "metadata": {
        "id": "76JuBMsrwKRx"
      },
      "outputs": [],
      "source": [
        "# Function to generate bigrams from a sentence\n",
        "def generate_bi(sentence):\n",
        "    words = [\"<s>\"] +  sentence.lower().split() + [\"<s>\"]\n",
        "    return np.array([list(words[i:i+2]) for i in range(len(words)-1)]) # (<S> ,eat),(eat , food)....\n",
        "\n",
        "# Generate bigrams from the dataset\n",
        "all_bigrams = [bigram for sentence in x_train for bigram in generate_bi(sentence)]\n",
        "\n",
        "# Get unique bigrams\n",
        "unique_bigrams = np.unique(all_bigrams, axis = 0)\n",
        "\n",
        "# Create a mapping of unique bigrams to indices\n",
        "bigram_to_index = {tuple(bigram): idx for idx, bigram in enumerate(unique_bigrams)}\n",
        "\n",
        "# print(len(bigram_to_index))\n",
        "# print(bigram_to_index)\n",
        "\n",
        "# For memory optimization\n",
        "del unique_bigrams\n",
        "del all_bigrams"
      ]
    },
    {
      "cell_type": "markdown",
      "metadata": {
        "id": "q3Lty0O4XQzr"
      },
      "source": [
        "## **Mapping Values to Classes**\n"
      ]
    },
    {
      "cell_type": "code",
      "execution_count": 57,
      "metadata": {
        "id": "5CuLTBgM2xgr"
      },
      "outputs": [],
      "source": [
        "def map_to_classes(arr):\n",
        "  for i, lable in enumerate(arr):\n",
        "    if lable <= 0.2:\n",
        "      arr[i] = 0\n",
        "    elif lable <= 0.4:\n",
        "      arr[i] = 1\n",
        "    elif lable <= 0.6:\n",
        "      arr[i] = 2\n",
        "    elif lable <= 0.8:\n",
        "      arr[i] = 3\n",
        "    elif lable <= 1:\n",
        "      arr[i] = 4"
      ]
    },
    {
      "cell_type": "code",
      "execution_count": 58,
      "metadata": {
        "colab": {
          "base_uri": "https://localhost:8080/"
        },
        "id": "FVdBYv7e2570",
        "outputId": "4db5b46b-fc74-48a2-ec0d-b38350d3bbe0"
      },
      "outputs": [
        {
          "output_type": "stream",
          "name": "stdout",
          "text": [
            "[3 4 3 ... 3 0 1]\n"
          ]
        }
      ],
      "source": [
        "map_to_classes(y_train)\n",
        "map_to_classes(y_test)\n",
        "\n",
        "# For memory optimization\n",
        "# Note: the smallest dtypr in python is int8 , boolean is also 8 bit representaion\n",
        "y_train = y_train.astype(np.int8)\n",
        "y_test = y_test.astype(np.int8)\n",
        "print(y_train)"
      ]
    },
    {
      "cell_type": "markdown",
      "metadata": {
        "id": "QJAqKDFXaU80"
      },
      "source": [
        "## **build feature vector for each input value X**"
      ]
    },
    {
      "cell_type": "code",
      "execution_count": 59,
      "metadata": {
        "colab": {
          "base_uri": "https://localhost:8080/"
        },
        "id": "Hpko8U8I3zZE",
        "outputId": "e5a56733-67dc-4ffe-f8d7-9abae7ffb5f5"
      },
      "outputs": [
        {
          "output_type": "stream",
          "name": "stdout",
          "text": [
            "13\n",
            "[0 0 0 ... 0 0 0]\n"
          ]
        }
      ],
      "source": [
        "def build_feature_vector_for_each_input_x (sentence) :\n",
        "  row  = np.zeros(len(bigram_to_index), dtype=np.int8)\n",
        "  chs = ['<s>'] + sentence.lower().split() + ['<s>']\n",
        "  for w1, w2 in zip(chs, chs[1:]): # w1 wil start from chs  ,  w2 wil start from chs [1] till end\n",
        "    if (w1,w2) in bigram_to_index:\n",
        "      row[bigram_to_index[(w1, w2)]] = 1\n",
        "  return  row\n",
        "x = build_feature_vector_for_each_input_x(\"The Rock is destined to be the 21st Century 's new `` Conan\")\n",
        "print(np.sum(x == 1))\n",
        "print(x)"
      ]
    },
    {
      "cell_type": "markdown",
      "metadata": {
        "id": "KYgNxgMqavSP"
      },
      "source": [
        "## **Start Training phase**\n",
        "### Implementing the pseudo code of Logistic regression\n",
        "  pseudo codes -- from [here](https://web.stanford.edu/~jurafsky/slp3/5.pdf)\n",
        "\n",
        "![image.png](data:image/png;base64,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)"
      ]
    },
    {
      "cell_type": "markdown",
      "metadata": {
        "id": "TvGtkGvhdpPt"
      },
      "source": [
        "![image.png](data:image/png;base64,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)\n",
        "![image.png](data:image/png;base64,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)\n",
        "![image.png](data:image/png;base64,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)"
      ]
    },
    {
      "cell_type": "markdown",
      "metadata": {
        "id": "AR-c8kQYcfJF"
      },
      "source": [
        " Function f : Z= WX + b  ||  K :classes (5)||  F :features (bigrams)\n",
        "                    \n",
        " Y (prediction)-->  K x 1\n",
        "\n",
        " W (theta)     -->  K x F\n",
        "\n",
        " X (input)     -->  F x 1\n",
        "\n",
        " b (baias)     -->  K x 1"
      ]
    },
    {
      "cell_type": "markdown",
      "metadata": {
        "id": "fHJCRJaOkOS7"
      },
      "source": [
        "**Implement function to update weights**\n",
        "\n",
        "[outer product explanataion](https://en.wikipedia.org/wiki/Outer_product)"
      ]
    },
    {
      "cell_type": "code",
      "execution_count": 60,
      "metadata": {
        "id": "EPQPW9ov1ocI"
      },
      "outputs": [],
      "source": [
        "# Dimensions      kx1         kxf  kx1 fx1\n",
        "def updateWeights(Y_predicted,w   ,y  ,x,  lr, b):\n",
        "    # y is the true lable vector [0 1 0 0 0]\n",
        "    cost = Y_predicted - y  # dimension of cost kx1\n",
        "    dw = np.outer(cost, x)  # dimension of dw   kx1 * fx1  == kxf\n",
        "    db = cost\n",
        "    new_w  = w - lr * dw\n",
        "    new_b = b - lr * db\n",
        "    return new_w, new_b"
      ]
    },
    {
      "cell_type": "markdown",
      "metadata": {
        "id": "LNfMk3AslCtN"
      },
      "source": [
        "**Intialize the weight , baias**"
      ]
    },
    {
      "cell_type": "code",
      "execution_count": 61,
      "metadata": {
        "colab": {
          "base_uri": "https://localhost:8080/"
        },
        "id": "x8-r7O-TIiZk",
        "outputId": "e0922358-4d97-48f7-d2d7-e61b76fbecc6"
      },
      "outputs": [
        {
          "output_type": "execute_result",
          "data": {
            "text/plain": [
              "(5, 1)"
            ]
          },
          "metadata": {},
          "execution_count": 61
        }
      ],
      "source": [
        "np.random.seed(42)\n",
        "learning_rate = 0.01\n",
        "epochs = 1\n",
        "\n",
        "k = 5\n",
        "f = len(bigram_to_index)\n",
        "\n",
        "#intialize W & b with zeros , float128 (high precision) to avoid NAN values while training\n",
        "W = np.zeros((k, f)).astype(np.float128) # W\n",
        "W.shape\n",
        "\n",
        "b = np.zeros( (k, 1) ).astype(np.float128) # b\n",
        "b.shape"
      ]
    },
    {
      "cell_type": "markdown",
      "metadata": {
        "id": "sxGorSKnlO3v"
      },
      "source": [
        "**start training**"
      ]
    },
    {
      "cell_type": "code",
      "execution_count": 62,
      "metadata": {
        "colab": {
          "base_uri": "https://localhost:8080/"
        },
        "id": "i5v5seKtJCjm",
        "outputId": "52b32c46-8a98-4696-db2c-cf9570aa146f"
      },
      "outputs": [
        {
          "output_type": "execute_result",
          "data": {
            "text/plain": [
              "False"
            ]
          },
          "metadata": {},
          "execution_count": 62
        }
      ],
      "source": [
        "for epoch in range(epochs): # 1 epoch means (1 iter through all the data)\n",
        "    shuffled_indeces = np.random.permutation(range(x_train.shape[0])) # .shape[0] --> number of rows\n",
        "\n",
        "    for idx in shuffled_indeces: # for each training tuble in random order\n",
        "        X_i_features = build_feature_vector_for_each_input_x(x_train[idx]).T.reshape(-1, 1) # build_feature_vector_for_each_input_x returns a row of features 1xF\n",
        "\n",
        "        # 1) Compute Y'\n",
        "        # calculate Z score (Z_dimensions) --> K x 1\n",
        "        z=np.dot(W,X_i_features)+b\n",
        "\n",
        "        # softmax function(to predict y)\n",
        "        epsilon = 1e-6  # if we make e(-50 000) ==> nan (l2no rkm soghyr awy)(from stackover flow)  , as e(-inf)=0\n",
        "        exps = np.nan_to_num(np.exp(z)) + epsilon  # nan to number (changes nan with zeros)\n",
        "        exp_sums = np.sum(exps) # sum the numbers in the given vctor\n",
        "        estimated_Y= exps / exp_sums\n",
        "\n",
        "        # 2) compute the loss   (- z log s) == > z=1 or 0   , s : estimated\n",
        "        # calcuate cross entroyloss\n",
        "        true_label_vector = np.zeros((5,1))\n",
        "        true_label_vector[y_train[idx]] = 1 #[0 1 0 0 0]  if the true label is from second class\n",
        "\n",
        "        epsilon = 1e-6  #we will add epsilon (really small number) to estimated_Y before taking the log to avoid estimated_Y being 0\n",
        "        loss = -np.sum(np.log(estimated_Y + epsilon) * true_label_vector)\n",
        "\n",
        "        # Check for NaN values\n",
        "        if np.isnan(W).any():\n",
        "            raise Exception(\"There is Nan\")\n",
        "\n",
        "        # 3) Graidient step\n",
        "        # Update weights w & b\n",
        "        # Dimensions        k x 1        kxf  kx1               fx1\n",
        "        W,b = updateWeights(estimated_Y, W   ,true_label_vector, X_i_features, learning_rate, b)\n",
        "\n",
        "        # for memory optimization\n",
        "        del X_i_features\n",
        "        del estimated_Y\n",
        "        del z\n",
        "# check for nan values\n",
        "np.any(np.isnan(W))"
      ]
    },
    {
      "cell_type": "markdown",
      "metadata": {
        "id": "RF29ABYdmPIs"
      },
      "source": [
        "## **Testing phase**"
      ]
    },
    {
      "cell_type": "code",
      "execution_count": 63,
      "metadata": {
        "colab": {
          "base_uri": "https://localhost:8080/"
        },
        "id": "RJVFBzg7KeDT",
        "outputId": "d749decb-67ce-4985-b2f2-2eba855a76c0"
      },
      "outputs": [
        {
          "output_type": "execute_result",
          "data": {
            "text/plain": [
              "False"
            ]
          },
          "metadata": {},
          "execution_count": 63
        }
      ],
      "source": [
        "predicted_labbles_array = np.zeros(y_test.shape)\n",
        "for i, sentence in enumerate(x_test):\n",
        "    x = build_feature_vector_for_each_input_x(sentence).T.reshape(-1, 1)\n",
        "\n",
        "    # 1) Compute Y'\n",
        "    # calculate Z score (Z_dimensions) --> K x 1\n",
        "    z=np.dot(W,x)+b\n",
        "\n",
        "    # softmax function(to predict y)\n",
        "    epsilon = 1e-6  # if we make e(-50 000) ==> nan (l2no rkm soghyr awy)(from stackover flow)  , as e(-inf)=0\n",
        "    exps = np.nan_to_num(np.exp(z)) + epsilon  # nan to number (changes nan with zeros)\n",
        "    exp_sums = np.sum(exps)\n",
        "    estimated_Y= exps / exp_sums\n",
        "\n",
        "    idx_predicted_class = np.argmax(estimated_Y)\n",
        "    predicted_labbles_array[i] = idx_predicted_class\n",
        "\n",
        "    del x\n",
        "    del estimated_Y\n",
        "    del idx_predicted_class\n",
        "np.any(np.isnan(W))"
      ]
    },
    {
      "cell_type": "code",
      "execution_count": 64,
      "metadata": {
        "colab": {
          "base_uri": "https://localhost:8080/"
        },
        "id": "Cc59x8SM1ocM",
        "outputId": "c11ad063-9dfd-4846-e513-53fe823f759e"
      },
      "outputs": [
        {
          "output_type": "stream",
          "name": "stdout",
          "text": [
            "Accuracy\n",
            "0.34479638009049773\n"
          ]
        }
      ],
      "source": [
        "print(\"Accuracy\")\n",
        "print(np.mean(predicted_labbles_array.astype(np.int8) == y_test))\n",
        "# print(y_test.dtype)"
      ]
    },
    {
      "cell_type": "markdown",
      "metadata": {
        "id": "1xwVDiFksBz9"
      },
      "source": [
        "# **Comparison with scikit learn**\n"
      ]
    },
    {
      "cell_type": "markdown",
      "metadata": {
        "id": "F0AjIicyvw5C"
      },
      "source": [
        "**prepare data** ( x-train , y-train , x-test . y-test)"
      ]
    },
    {
      "cell_type": "code",
      "execution_count": 65,
      "metadata": {
        "colab": {
          "base_uri": "https://localhost:8080/"
        },
        "id": "GR39t2ewSg8U",
        "outputId": "51c4df7f-3fd5-4e7f-cd84-fcf23d5b123d"
      },
      "outputs": [
        {
          "output_type": "stream",
          "name": "stdout",
          "text": [
            "int8\n",
            "x train dimensions:\n",
            "(8544, 86500, 1)\n",
            "x train dimensions after reshape:\n",
            " Y-train :\n",
            " X-test dimension:\n"
          ]
        },
        {
          "output_type": "execute_result",
          "data": {
            "text/plain": [
              "(2210,)"
            ]
          },
          "metadata": {},
          "execution_count": 65
        }
      ],
      "source": [
        "# prepare input X\n",
        "x_train = np.array([build_feature_vector_for_each_input_x(sentence).T.reshape(-1, 1) for sentence in x_train])\n",
        "print(x_train.dtype)\n",
        "print(\"x train dimensions:\")\n",
        "print(x_train.shape)\n",
        "x_train = x_train.reshape(8544, 86500)\n",
        "print(\"x train dimensions after reshape:\")\n",
        "x_train.shape\n",
        "\n",
        "# CHECK for input labels Y (check that we already run map to clasess function)\n",
        "print(\" Y-train :\")\n",
        "y_train[:5]\n",
        "\n",
        "print(\" X-test dimension:\")\n",
        "x_test.shape"
      ]
    },
    {
      "cell_type": "markdown",
      "metadata": {
        "id": "rBzEL6fkv6oe"
      },
      "source": [
        "##**sklearn.linear_model.SGDClassifier**\n",
        "[check parameters](https://scikit-learn.org/stable/modules/generated/sklearn.linear_model.SGDClassifier.html#sklearn.linear_model.SGDClassifier)"
      ]
    },
    {
      "cell_type": "code",
      "execution_count": 66,
      "metadata": {
        "colab": {
          "base_uri": "https://localhost:8080/"
        },
        "id": "th02guirgP0v",
        "outputId": "9842c289-d008-4954-b350-1c47435a79ca"
      },
      "outputs": [
        {
          "output_type": "stream",
          "name": "stdout",
          "text": [
            "Accuracy: 0.33710407239819007\n"
          ]
        }
      ],
      "source": [
        "from sklearn.linear_model import SGDClassifier\n",
        "# Instantiate a SGDClassifier model with parameters consistent with those used in the custom-built model.\n",
        "# The model is configured with logistic loss, no regularization penalty, one epoch of training, no tolerance for stopping criteria, constant learning rate with an initial step size of 0.01, data shuffling during training, and a fixed random state for reproducibility.\n",
        "SGD_model = SGDClassifier(loss='log_loss', penalty=None, max_iter=1, tol=None, learning_rate='constant', eta0=0.01, shuffle=True, random_state=42)\n",
        "\n",
        "# Fit the model to the training data.\n",
        "SGD_model.fit(x_train, y_train)\n",
        "\n",
        "y_pred = SGD_model.predict(np.array([build_feature_vector_for_each_input_x(sentence).T.reshape(-1, 1) for sentence in x_test]).reshape(2210, 86500))\n",
        "\n",
        "accuracy = np.mean(y_pred == y_test)\n",
        "print(\"Accuracy:\", accuracy)\n"
      ]
    },
    {
      "cell_type": "markdown",
      "metadata": {
        "id": "wqcbzZ0Wx0GN"
      },
      "source": [
        "## **sklearn.linear_model.LogisticRegression**\n",
        "[check parameters](https://scikit-learn.org/stable/modules/generated/sklearn.linear_model.LogisticRegression.html)"
      ]
    },
    {
      "cell_type": "code",
      "execution_count": 67,
      "metadata": {
        "colab": {
          "base_uri": "https://localhost:8080/"
        },
        "id": "xuTATX-_xzeQ",
        "outputId": "611484d3-d2f4-43e4-9e78-45e9138ef427"
      },
      "outputs": [
        {
          "output_type": "stream",
          "name": "stdout",
          "text": [
            "Accuracy: 0.32986425339366515\n"
          ]
        }
      ],
      "source": [
        "from sklearn.model_selection import train_test_split\n",
        "from sklearn.linear_model import LogisticRegression\n",
        "from sklearn import datasets\n",
        "\n",
        "logisticRegression_model = LogisticRegression(penalty=None, multi_class=\"multinomial\")\n",
        "logisticRegression_model.fit(x_train, y_train)\n",
        "\n",
        "predictions = logisticRegression_model.predict(np.array([build_feature_vector_for_each_input_x(sentence).T.reshape(-1, 1) for sentence in x_test]).reshape(2210, 86500))\n",
        "\n",
        "# Evaluate the model\n",
        "accuracy = np.mean(predictions == y_test)\n",
        "print(\"Accuracy:\", accuracy)"
      ]
    },
    {
      "cell_type": "markdown",
      "metadata": {
        "id": "kcFOGlNGyvF7"
      },
      "source": [
        "## **Part 3 - our implementation to confusion matrix , precison, recall,and f1**"
      ]
    },
    {
      "cell_type": "code",
      "source": [
        "def confusion_matrixx(y_true, y_pred,num_classes):\n",
        "    # Initialize confusion matrix\n",
        "    conf_mat = np.zeros((num_classes, num_classes), dtype=int)\n",
        "\n",
        "    # Fill confusion matrix\n",
        "    for true, pred in zip(y_true, y_pred):\n",
        "        conf_mat[int(true), int(pred)] += 1\n",
        "\n",
        "    return conf_mat\n",
        "\n",
        "def precision_recall_f1(conf_mat):\n",
        "    num_classes = conf_mat.shape[0]\n",
        "    precision = np.zeros(num_classes, dtype=float)\n",
        "    recall = np.zeros(num_classes, dtype=float)\n",
        "    f1_scorez = np.zeros(num_classes, dtype=float)\n",
        "\n",
        "    for i in range(num_classes):\n",
        "        true_positive = conf_mat[i, i]\n",
        "        false_positive = np.sum(conf_mat[:, i]) - true_positive\n",
        "        false_negative = np.sum(conf_mat[i, :]) - true_positive\n",
        "\n",
        "        precision[i] = true_positive / (true_positive + false_positive) if (true_positive + false_positive) != 0 else 0\n",
        "        recall[i] = true_positive / (true_positive + false_negative) if (true_positive + false_negative) != 0 else 0\n",
        "        f1_scorez[i] = 2 * precision[i] * recall[i] / (precision[i] + recall[i]) if (precision[i] + recall[i]) != 0 else 0\n",
        "\n",
        "    macro_precision = np.mean(precision)\n",
        "    macro_recall = np.mean(recall)\n",
        "    macro_f1_score = np.mean(f1_scorez)\n",
        "\n",
        "    return precision, recall, f1_scorez, macro_precision, macro_recall, macro_f1_score"
      ],
      "metadata": {
        "id": "2mahiONbvULS"
      },
      "execution_count": 68,
      "outputs": []
    },
    {
      "cell_type": "markdown",
      "source": [
        " # **Confusion Matrix & Evaluation Metrics**"
      ],
      "metadata": {
        "id": "cVr3o0RXwpMt"
      }
    },
    {
      "cell_type": "markdown",
      "source": [
        "##**Logistic regression from scratch**"
      ],
      "metadata": {
        "id": "2AT7P_hJwbON"
      }
    },
    {
      "cell_type": "code",
      "source": [
        "print(\"our implemention of logistic regression from scratch\")\n",
        "\n",
        "print(\"our function\")\n",
        "conf_mat = confusion_matrixx(y_test, predicted_labbles_array, 5)\n",
        "precision, recall, f1_scores, macro_precision, macro_recall, macro_f1_score = precision_recall_f1(conf_mat)\n",
        "\n",
        "print(\"Confusion Matrix:\")\n",
        "print(conf_mat)\n",
        "print(\"\\nPrecision per class:\", precision)\n",
        "print(\"Recall per class:\", recall)\n",
        "print(\"F1 Score per class:\", f1_scores)\n",
        "print(\"\\nMacro-averaged Precision:\", macro_precision)\n",
        "print(\"Macro-averaged Recall:\", macro_recall)\n",
        "print(\"Macro-averaged F1 Score:\", macro_f1_score)\n",
        "\n",
        "print(\"-------------------------------------------------------------------------------------------------------------------\")\n",
        "print(\"sklearn function\")\n",
        "\n",
        "cm = confusion_matrix(y_test, predicted_labbles_array)\n",
        "print(\"Confusion matrix:\",cm)\n",
        "\n",
        "precisions = precision_score(y_test, predicted_labbles_array, average=None)\n",
        "recalls = recall_score(y_test, predicted_labbles_array, average=None)\n",
        "f1_scoress = f1_score(y_test, predicted_labbles_array, average=None)\n",
        "# Convert to list\n",
        "precision_list = precisions.tolist()\n",
        "recall_list = recalls.tolist()\n",
        "f1_list = f1_scoress.tolist()\n",
        "\n",
        "print(\"Precision per class:\", precision_list)\n",
        "print(\"Recall per class:\", recall_list)\n",
        "print(\"F1 Score per class:\", f1_list)\n",
        "\n",
        "\n",
        "macro_precision = precision_score(y_test, predicted_labbles_array, average='macro')\n",
        "macro_recall = recall_score(y_test, predicted_labbles_array, average='macro')\n",
        "macro_f1 = f1_score(y_test, predicted_labbles_array, average='macro')\n",
        "\n",
        "print(\"Macro-averaged Precision:\", macro_precision)\n",
        "print(\"Macro-averaged Recall:\", macro_recall)\n",
        "print(\"Macro-averaged F1 Score:\", macro_f1)"
      ],
      "metadata": {
        "colab": {
          "base_uri": "https://localhost:8080/"
        },
        "id": "dCpC8Jhfvr_n",
        "outputId": "73701dfe-bf1f-4fb7-99f3-642a4c41f52d"
      },
      "execution_count": 70,
      "outputs": [
        {
          "output_type": "stream",
          "name": "stdout",
          "text": [
            "our implemention of logistic regression from scratch\n",
            "our function\n",
            "Confusion Matrix:\n",
            "[[  0 191   1  85   2]\n",
            " [  0 423   8 200   2]\n",
            " [  0 231   6 151   1]\n",
            " [  0 181   9 318   2]\n",
            " [  0 143   3 238  15]]\n",
            "\n",
            "Precision per class: [0.         0.36184773 0.22222222 0.32056452 0.68181818]\n",
            "Recall per class: [0.         0.66824645 0.01542416 0.62352941 0.03759398]\n",
            "F1 Score per class: [0.         0.46947836 0.02884615 0.42343542 0.07125891]\n",
            "\n",
            "Macro-averaged Precision: 0.31729053065493085\n",
            "Macro-averaged Recall: 0.2689588013498328\n",
            "Macro-averaged F1 Score: 0.19860376760620163\n",
            "-------------------------------------------------------------------------------------------------------------------\n",
            "sklearn function\n",
            "Confusion matrix: [[  0 191   1  85   2]\n",
            " [  0 423   8 200   2]\n",
            " [  0 231   6 151   1]\n",
            " [  0 181   9 318   2]\n",
            " [  0 143   3 238  15]]\n",
            "Precision per class: [0.0, 0.3618477331052181, 0.2222222222222222, 0.32056451612903225, 0.6818181818181818]\n",
            "Recall per class: [0.0, 0.6682464454976303, 0.015424164524421594, 0.6235294117647059, 0.03759398496240601]\n",
            "F1 Score per class: [0.0, 0.46947835738068805, 0.028846153846153848, 0.4234354194407457, 0.07125890736342043]\n",
            "Macro-averaged Precision: 0.31729053065493085\n",
            "Macro-averaged Recall: 0.2689588013498328\n",
            "Macro-averaged F1 Score: 0.19860376760620163\n"
          ]
        },
        {
          "output_type": "stream",
          "name": "stderr",
          "text": [
            "/usr/local/lib/python3.10/dist-packages/sklearn/metrics/_classification.py:1344: UndefinedMetricWarning: Precision is ill-defined and being set to 0.0 in labels with no predicted samples. Use `zero_division` parameter to control this behavior.\n",
            "  _warn_prf(average, modifier, msg_start, len(result))\n",
            "/usr/local/lib/python3.10/dist-packages/sklearn/metrics/_classification.py:1344: UndefinedMetricWarning: Precision is ill-defined and being set to 0.0 in labels with no predicted samples. Use `zero_division` parameter to control this behavior.\n",
            "  _warn_prf(average, modifier, msg_start, len(result))\n"
          ]
        }
      ]
    },
    {
      "cell_type": "markdown",
      "source": [
        "## **SGD Classifier**"
      ],
      "metadata": {
        "id": "n2b4HD-CyOQA"
      }
    },
    {
      "cell_type": "code",
      "source": [
        "print(\"our implemention of logistic regression from scratch\")\n",
        "\n",
        "print(\"our function\")\n",
        "conf_mat = confusion_matrixx(y_test, y_pred, 5)\n",
        "precision, recall, f1_scoree, macro_precision, macro_recall, macro_f1_score = precision_recall_f1(conf_mat)\n",
        "\n",
        "print(\"Confusion Matrix:\")\n",
        "print(conf_mat)\n",
        "print(\"\\nPrecision per class:\", precision)\n",
        "print(\"Recall per class:\", recall)\n",
        "print(\"F1 Score per class:\", f1_scoree)\n",
        "print(\"\\nMacro-averaged Precision:\", macro_precision)\n",
        "print(\"Macro-averaged Recall:\", macro_recall)\n",
        "print(\"Macro-averaged F1 Score:\", macro_f1_score)\n",
        "\n",
        "print(\"-------------------------------------------------------------------------------------------------------------------\")\n",
        "print(\"sklearn function\")\n",
        "\n",
        "cm = confusion_matrix(y_test, y_pred)\n",
        "print(\"Confusion matrix:\",cm)\n",
        "\n",
        "precisions = precision_score(y_test, y_pred, average=None)\n",
        "recalls = recall_score(y_test, y_pred, average=None)\n",
        "f1_scores = f1_score(y_test, y_pred, average=None)\n",
        "# Convert to list\n",
        "precision_list = precisions.tolist()\n",
        "recall_list = recalls.tolist()\n",
        "f1_list = f1_scores.tolist()\n",
        "\n",
        "print(\"Precision per class:\", precision_list)\n",
        "print(\"Recall per class:\", recall_list)\n",
        "print(\"F1 Score per class:\", f1_list)\n",
        "\n",
        "\n",
        "macro_precision = precision_score(y_test, y_pred, average='macro')\n",
        "macro_recall = recall_score(y_test, y_pred, average='macro')\n",
        "macro_f1 = f1_score(y_test, y_pred, average='macro')\n",
        "\n",
        "print(\"Macro-averaged Precision:\", macro_precision)\n",
        "print(\"Macro-averaged Recall:\", macro_recall)\n",
        "print(\"Macro-averaged F1 Score:\", macro_f1)"
      ],
      "metadata": {
        "colab": {
          "base_uri": "https://localhost:8080/"
        },
        "id": "M0jKB7F-yTVl",
        "outputId": "80f730f1-960a-46c3-a913-020fa757d5db"
      },
      "execution_count": 71,
      "outputs": [
        {
          "output_type": "stream",
          "name": "stdout",
          "text": [
            "our implemention of logistic regression from scratch\n",
            "our function\n",
            "Confusion Matrix:\n",
            "[[  0 206   0  72   1]\n",
            " [  0 479   1 152   1]\n",
            " [  0 268   4 116   1]\n",
            " [  0 256   3 249   2]\n",
            " [  0 192   0 194  13]]\n",
            "\n",
            "Precision per class: [0.         0.34189864 0.5        0.31800766 0.72222222]\n",
            "Recall per class: [0.         0.75671406 0.01028278 0.48823529 0.03258145]\n",
            "F1 Score per class: [0.         0.47099312 0.02015113 0.38515081 0.06235012]\n",
            "\n",
            "Macro-averaged Precision: 0.37642570577666196\n",
            "Macro-averaged Recall: 0.25756271682658843\n",
            "Macro-averaged F1 Score: 0.18772903649622347\n",
            "-------------------------------------------------------------------------------------------------------------------\n",
            "sklearn function\n",
            "Confusion matrix: [[  0 206   0  72   1]\n",
            " [  0 479   1 152   1]\n",
            " [  0 268   4 116   1]\n",
            " [  0 256   3 249   2]\n",
            " [  0 192   0 194  13]]\n",
            "Precision per class: [0.0, 0.3418986438258387, 0.5, 0.31800766283524906, 0.7222222222222222]\n",
            "Recall per class: [0.0, 0.7567140600315956, 0.010282776349614395, 0.48823529411764705, 0.03258145363408521]\n",
            "F1 Score per class: [0.0, 0.4709931170108161, 0.020151133501259445, 0.3851508120649652, 0.06235011990407673]\n",
            "Macro-averaged Precision: 0.37642570577666196\n",
            "Macro-averaged Recall: 0.25756271682658843\n",
            "Macro-averaged F1 Score: 0.18772903649622347\n"
          ]
        },
        {
          "output_type": "stream",
          "name": "stderr",
          "text": [
            "/usr/local/lib/python3.10/dist-packages/sklearn/metrics/_classification.py:1344: UndefinedMetricWarning: Precision is ill-defined and being set to 0.0 in labels with no predicted samples. Use `zero_division` parameter to control this behavior.\n",
            "  _warn_prf(average, modifier, msg_start, len(result))\n",
            "/usr/local/lib/python3.10/dist-packages/sklearn/metrics/_classification.py:1344: UndefinedMetricWarning: Precision is ill-defined and being set to 0.0 in labels with no predicted samples. Use `zero_division` parameter to control this behavior.\n",
            "  _warn_prf(average, modifier, msg_start, len(result))\n"
          ]
        }
      ]
    },
    {
      "cell_type": "markdown",
      "source": [
        "## **sklearn.linear_model.LogisticRegression**"
      ],
      "metadata": {
        "id": "X62a6y1oynwT"
      }
    },
    {
      "cell_type": "code",
      "source": [
        "print(\"our implemention of logistic regression from scratch\")\n",
        "\n",
        "print(\"our function\")\n",
        "conf_mat = confusion_matrixx(y_test, predictions, 5)\n",
        "precision, recall, f1_scoreee, macro_precision, macro_recall, macro_f1_score = precision_recall_f1(conf_mat)\n",
        "\n",
        "print(\"Confusion Matrix:\")\n",
        "print(conf_mat)\n",
        "print(\"\\nPrecision per class:\", precision)\n",
        "print(\"Recall per class:\", recall)\n",
        "print(\"F1 Score per class:\", f1_scoreee)\n",
        "print(\"\\nMacro-averaged Precision:\", macro_precision)\n",
        "print(\"Macro-averaged Recall:\", macro_recall)\n",
        "print(\"Macro-averaged F1 Score:\", macro_f1_score)\n",
        "\n",
        "print(\"-------------------------------------------------------------------------------------------------------------------\")\n",
        "print(\"sklearn function\")\n",
        "\n",
        "cm = confusion_matrix(y_test, predictions)\n",
        "print(\"Confusion matrix:\",cm)\n",
        "\n",
        "precisions = precision_score(y_test, predictions, average=None)\n",
        "recalls = recall_score(y_test, predictions, average=None)\n",
        "f1_scores = f1_score(y_test, predictions, average=None)\n",
        "# Convert to list\n",
        "precision_list = precisions.tolist()\n",
        "recall_list = recalls.tolist()\n",
        "f1_list = f1_scores.tolist()\n",
        "\n",
        "print(\"Precision per class:\", precision_list)\n",
        "print(\"Recall per class:\", recall_list)\n",
        "print(\"F1 Score per class:\", f1_list)\n",
        "\n",
        "\n",
        "macro_precision = precision_score(y_test, predictions, average='macro')\n",
        "macro_recall = recall_score(y_test, predictions, average='macro')\n",
        "macro_f1 = f1_score(y_test, predictions, average='macro')\n",
        "\n",
        "print(\"Macro-averaged Precision:\", macro_precision)\n",
        "print(\"Macro-averaged Recall:\", macro_recall)\n",
        "print(\"Macro-averaged F1 Score:\", macro_f1)"
      ],
      "metadata": {
        "colab": {
          "base_uri": "https://localhost:8080/"
        },
        "id": "kf3g_hD5yvEQ",
        "outputId": "466ca598-76f8-43bb-c908-1748bb37da32"
      },
      "execution_count": 74,
      "outputs": [
        {
          "output_type": "stream",
          "name": "stdout",
          "text": [
            "our implemention of logistic regression from scratch\n",
            "our function\n",
            "Confusion Matrix:\n",
            "[[ 65 106  43  38  27]\n",
            " [ 89 246 115 150  33]\n",
            " [ 35 123  68 131  32]\n",
            " [ 29 100  72 227  82]\n",
            " [ 20  41  45 170 123]]\n",
            "\n",
            "Precision per class: [0.27310924 0.39935065 0.19825073 0.31703911 0.41414141]\n",
            "Recall per class: [0.23297491 0.38862559 0.1748072  0.44509804 0.30827068]\n",
            "F1 Score per class: [0.25145068 0.39391513 0.18579235 0.37030995 0.35344828]\n",
            "\n",
            "Macro-averaged Precision: 0.3203782284395535\n",
            "Macro-averaged Recall: 0.30995528333243744\n",
            "Macro-averaged F1 Score: 0.310983277147496\n",
            "-------------------------------------------------------------------------------------------------------------------\n",
            "sklearn function\n",
            "Confusion matrix: [[ 65 106  43  38  27]\n",
            " [ 89 246 115 150  33]\n",
            " [ 35 123  68 131  32]\n",
            " [ 29 100  72 227  82]\n",
            " [ 20  41  45 170 123]]\n",
            "Precision per class: [0.27310924369747897, 0.39935064935064934, 0.19825072886297376, 0.3170391061452514, 0.41414141414141414]\n",
            "Recall per class: [0.23297491039426524, 0.3886255924170616, 0.17480719794344474, 0.44509803921568625, 0.3082706766917293]\n",
            "F1 Score per class: [0.2514506769825918, 0.3939151321056846, 0.18579234972677597, 0.37030995106035886, 0.35344827586206895]\n",
            "Macro-averaged Precision: 0.3203782284395535\n",
            "Macro-averaged Recall: 0.30995528333243744\n",
            "Macro-averaged F1 Score: 0.310983277147496\n"
          ]
        }
      ]
    },
    {
      "cell_type": "markdown",
      "metadata": {
        "id": "kH7vCw133kdy"
      },
      "source": [
        "**Note :: After implementing my version of logistic regression, I compared it with scikit-learn's implementations, specifically `SGDClassifier` and `LogisticRegression`. In my analysis, I found that `LogisticRegression` from scikit-learn is better suited when dealing with sparse feature matrices. This is because `LogisticRegression` does not rely on the gradient descent optimizer, which can be inefficient with sparse matrices due to its dense gradient computation. Instead, `LogisticRegression` uses optimization techniques like coordinate descent or Limited-memory BFGS (L-BFGS), which perform better in such scenarios. On the other hand, `SGDClassifier` from scikit-learn is comparable to my implementation. Despite its name suggesting stochastic gradient descent, after parameter assignment, it can utilize various optimization algorithms, including gradient descent, similar to how I've implemented it. Therefore, `SGDClassifier` is a suitable alternative when flexibility in optimization methods is desired, making it comparable to my implementation.**\n"
      ]
    }
  ],
  "metadata": {
    "colab": {
      "provenance": []
    },
    "kaggle": {
      "accelerator": "gpu",
      "dataSources": [],
      "dockerImageVersionId": 30042,
      "isGpuEnabled": true,
      "isInternetEnabled": false,
      "language": "python",
      "sourceType": "notebook"
    },
    "kernelspec": {
      "display_name": "Python 3",
      "language": "python",
      "name": "python3"
    },
    "language_info": {
      "codemirror_mode": {
        "name": "ipython",
        "version": 3
      },
      "file_extension": ".py",
      "mimetype": "text/x-python",
      "name": "python",
      "nbconvert_exporter": "python",
      "pygments_lexer": "ipython3",
      "version": "3.11.8"
    }
  },
  "nbformat": 4,
  "nbformat_minor": 0
}